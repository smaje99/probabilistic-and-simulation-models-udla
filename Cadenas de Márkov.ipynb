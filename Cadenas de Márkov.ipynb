{
  "cells": [
    {
      "cell_type": "markdown",
      "metadata": {
        "id": "btBRXe-dE7Bg"
      },
      "source": [
        "<div align=\"center\">\n",
        "  <h1>Cadenas de Márkov</h1>\n",
        "  <p>\n",
        "    Autores:<br />\n",
        "    Sergio Andrés Majé Franco<br />\n",
        "    Marleny Rojas Gómez\n",
        "  </p> \n",
        "  <p>\n",
        "    Docente:<br />\n",
        "    Dr. Jesús Emilio Pinto Lopera \n",
        "  </p>\n",
        "  <p>\n",
        "    Universidad de la Amazonia<br />\n",
        "    Facultad de Ingeniería<br />\n",
        "    Programa Ingeniería de Sistemas<br />\n",
        "    Florencia - Caquetá<br />\n",
        "    2023\n",
        "  </p>\n",
        "</div>"
      ]
    },
    {
      "cell_type": "markdown",
      "metadata": {
        "id": "Cpfy0F8DFUUm"
      },
      "source": [
        "## Tabla de Contenido\n",
        "\n",
        "1. Introducción\n",
        "2. Desarrollo Metodológico\n",
        "    1. Desarrollo Teórico\n",
        "      1. Cadenas de Márkov\n",
        "      2. Homogéneas y no homogéneas\n",
        "      3. Matriz de Transición \n",
        "      4. Distribución Binomial\n",
        "    2. Desarrollo Computacional\n",
        "      1. Función Binomial\n",
        "      2. Matríz de Transición\n",
        "3. Problemas\n",
        "4. Resultados\n",
        "  1. Ejemplo con 3 usuarios\n",
        "  2. Ejemplo con 4 usuarios\n",
        "  3. Ejecicio dinámico\n",
        "5. Conclusiones\n",
        "6. Referencias"
      ]
    },
    {
      "cell_type": "markdown",
      "metadata": {
        "id": "CPQvVEcZFgl7"
      },
      "source": [
        "## Tabla de Formulas\n",
        "\n",
        "1. Formula 1. Propiedad Márkoviana\n",
        "2. Formula 2. Para todo n y para cualquier i,j\n",
        "3. Probabilidad de estado $i$ a $j$ en n unidades de tiempo\n",
        "4. Probabilidad al dar 1 paso de $i$ a $j$\n",
        "5. Probabilidad en n pasos\n",
        "6. Agrupación de la matríz de transición\n",
        "7. Distribución Binomial"
      ]
    },
    {
      "cell_type": "markdown",
      "metadata": {
        "id": "_szJd1o2Fkfk"
      },
      "source": [
        "## Tabla de Tablas\n",
        "\n",
        "1. Tabla 1. Matríz de transición con 3 usuarios\n",
        "2. Tabla 2. Matríz de transición con 4 usuarios\n",
        "3. Tabla 3. Matríz de transición Dinámica\n"
      ]
    },
    {
      "cell_type": "markdown",
      "metadata": {
        "id": "6oVApcxZFwxk"
      },
      "source": [
        "## 1. Introducción\n",
        "\n",
        "\n",
        "Como bien sabemos, hoy en día es común ver en los diferentes espacios públicos, un porcentaje de la humanidad que presentan diversos problemas de cualquier ámbito, los cuales involucran poder satisfacer las necesidades de cada uno de ellos. Existen métodos que por medio de observaciones determinan una variedad de resultados, donde cada uno presenta su respectiva probabilidad, dependiendo únicamente del resultado de la fase anterior. Por lo tanto, haciendo honor al matemático Andrei Andreyevich, quien creo este método, logrando resaltar este importante proceso, el cual intervienen ciertas variables aleatorias indexadas transcurridas en el tiempo y así se denominan cadenas de Márkov. De tal forma, la probabilidad de que un evento suceda depende del evento anterior, permitiendo predecir su comportamiento a corto y a largo plazo.\n",
        "\n",
        "En los siguientes apartados daremos inicio a la estructura sobre las cadenas de Márkov, conocer sus procesos, formulas y demás desarrollo que nos permitira enfatizar la problematica escogida. \n"
      ]
    },
    {
      "cell_type": "markdown",
      "metadata": {
        "id": "0eUXj-1SFzxK"
      },
      "source": [
        "## 2. Desarrollo Metodológico"
      ]
    },
    {
      "cell_type": "markdown",
      "metadata": {
        "id": "4tDlRvU9F2u7"
      },
      "source": [
        "### 2.1. Desarrollo Teoríco"
      ]
    },
    {
      "cell_type": "markdown",
      "metadata": {
        "id": "z36w_io3fMHK"
      },
      "source": [
        "#### 2.1.1. Cadenas de Márkov"
      ]
    },
    {
      "cell_type": "markdown",
      "metadata": {
        "id": "9lyvc2PNpDcr"
      },
      "source": [
        "Una cadena de markov representa los procesos en los cuales la sucesión de variables aleatorias, evolucionan en función de otra variable. Esta herramienta permite analizar los conjuntos de variables con efectos aleatorios, los cuales toman como nombre proceso estocástico. Permiten emplearla como una secuencia ${X}1$, $ {X}2$, $ {X}3$… de las respectivas variables aleatorias, donde el valor de $ {\\ X}_n $  representa al estado del proceso con respecto en el tiempo n. A continuación de anexa la propiedad de la Cadena de Márkov:\n",
        "\n",
        "\n",
        "\n",
        "$$ P\\ (X_{n+1}=\\ X_{n+1\\ \\ |}\\ X_n\\ =\\ x_n{,\\ X}_{n\\ -1\\ }=\\ x_{n\\ -\\ 1,...,\\ }X_{2\\ \\ }=\\ x_{2,\\ }X_{1\\ }=\\ x_1)\\ =\\ P\\ (X_{n+1}=\\ X_{n+1\\ \\ |}{\\ X}_n) $$\n",
        "\n",
        "<div align=\"center\">\n",
        "    Formula 1. Propiedad Márkoviana\n",
        "</div>\n",
        "\n",
        " $ {x}i$ : Representa la estado del proceso en el instante $i$\n",
        "\n",
        " La propiedad de las cadenas de Márkov, deducen que las transiciones entre los estados, solo se pueden producir entre sus estados vecinos, donde solo se puede legar al estado $i$ partiendo de estado $i - 1$ y el estado $i +1$."
      ]
    },
    {
      "cell_type": "markdown",
      "metadata": {
        "id": "LjfHSLWJwb9A"
      },
      "source": [
        "#### 2.1.2. Cadenas Homogéneas y no Homogéneas"
      ]
    },
    {
      "cell_type": "markdown",
      "metadata": {
        "id": "si81k1XOxflU"
      },
      "source": [
        "De la manera homogénea, una cadena de markov representa si la probabilidad de ir el estado $i$ al estado $j$, nos dice que en un paso no depende del tiempo en el que está transcurriendo la cadena, por lo tanto: \n",
        " \n",
        " $$ P\\ (X_{n-1\\ \\ \\ }=\\ i)\\ =\\ P\\ (\\ X_0\\ =\\ i\\ ) $$\n",
        "\n",
        " <div align=\"center\">\n",
        "    Formula 2. Para todo n y para cualquier $i$, $j$\n",
        "</div>\n",
        "\n",
        "Para deducir cuando la cadena de márkov es no homogénea, se concluye que si para algunas de las parejas de estados en su determinado tiempo n, la propiedad dicha anteriormente no se logra cumplir.\n"
      ]
    },
    {
      "cell_type": "markdown",
      "metadata": {
        "id": "NuVUpIo7vfJ7"
      },
      "source": [
        "#### 2.1.3. Matriz de Transición"
      ]
    },
    {
      "cell_type": "markdown",
      "metadata": {
        "id": "5oqpL2XtzvdL"
      },
      "source": [
        "La matriz de probalidades de transición representa una matriz estocástica, donde la suma de las filas es igual a 1 y debe contener el mismo número de filas y columnas\n",
        "\n",
        " $$ P_{ij^{(n)}}= Pr (X_n =\\ j\\ |\\ X_n\\ =\\ j\\ |\\ X_0\\ =\\ i\\ ) $$\n",
        "\n",
        "  <div align=\"center\">\n",
        "    Formula 3. Probabilidad de estado $i$ a $j$ en n unidades de tiempo\n",
        "</div>\n",
        "\n",
        "La probabilidad de transición, a dar un paso se pasa por alto el superíndice, obteniendo lo siguiente: \n",
        "\n",
        "$$ P_{ij}= Pr (X_1 = j | X_0\\ =\\ i\\ ) $$\n",
        "\n",
        " <div align=\"center\">\n",
        "    Formula 4. Probabilidad al dar 1 paso de $i$ a $j$\n",
        "</div>\n",
        "\n",
        "\n",
        "Continuando con lo anterior, las probabilidades de transición en n pasos, es decir para cualquier $k$ diciendo tal que $0< k < n$ se cumple que:\n",
        "\n",
        "$$ P_{ij}^{(n)}=\\ \\sum_{r \\in\\ E}{p_{ir}^{(k)}{\\ \\ \\ p}_{ij}^{(n-k)}} $$\n",
        "\n",
        " <div align=\"center\">\n",
        "    Formula 5. Probabilidad en n pasos\n",
        "</div>\n",
        "\n",
        "E : Representa al espacio de los estados\n",
        " \n",
        "\n",
        "En una matriz de transición, la cadena de márkov de $n$ estados, representa la matriz de n x n donde todos los registros que son no negativos y con la respectiva propiedad en la cual la sema de los registros de cada columna o fila dan el resultado de 1.\n",
        "\n",
        "$p_{ij}$ : Es la probabilidad de transicion desde el estado $i$ al estado $j$\n",
        "\n",
        "Por lo tanto, se agrupan en la matriz de transicion de la cadena de márkov, que dando asi: \n",
        "\n",
        "$$  P\\ =\\ \\left[\\begin{matrix}P_{00}&P_{01}&...\\\\P_{10}&P_{11}&...\\\\...&\\cdots&...\\\\\\end{matrix}\\right]\\ \\ =\\ (P_{i\\ j})\\ i,\\ j\\ \\in\\ S $$\n",
        "\n",
        " <div align=\"center\">\n",
        "    Formula 6. Agrupación de la matríz de transición\n",
        "</div>\n"
      ]
    },
    {
      "cell_type": "markdown",
      "metadata": {
        "id": "mCWpJDpywCd9"
      },
      "source": [
        "#### 2.1.4. Distribución  Binomial"
      ]
    },
    {
      "cell_type": "markdown",
      "metadata": {
        "id": "6336_h8esmel"
      },
      "source": [
        "La distribución binomial, representa la probabilidad donde nos cuenta el porcentaje donde se predice cual es posible obtener un resultado optimo entre dos estados al realizar un numero n de pruebas realizadas. Esta probabilidad no puede ser mas grande que 1 y menos dar un resultado negativo.\n",
        "\n",
        "En esta distribución, los valores de p (x; n, p) para x = 0,1,2…n son los términos sucesivos de la expansión binomial de $\\left[(1\\ -\\ p)\\ +\\ p\\right]$\n",
        "\n",
        "$$P(k,\\ n;\\ p)\\ =\\ \\binom{n}{k}\\ p^k{(1\\ -\\ p)}^{n\\ -\\ k}\\ $$\n",
        "\n",
        " <div align=\"center\">\n",
        "    Formula 7. Distribución Binomial\n",
        "</div>\n"
      ]
    },
    {
      "cell_type": "markdown",
      "metadata": {
        "id": "fZKXjIjwF_JT"
      },
      "source": [
        "### 2.2. Desarrollo Computacional"
      ]
    },
    {
      "cell_type": "markdown",
      "metadata": {
        "id": "1xO0VilfsJZf"
      },
      "source": [
        "Para el desarrollo de computacional relacionado a este informe se uso el lenguaje de programación Python 3.10.7 y las siguientes librerías:\n",
        "\n",
        "* numpy - se especializa en el cálculo, transformación y análisis de datos numéricos.\n",
        "* factorial - librería nativa de Python para calcular el factorial de un número\n",
        "* product - genera un producto iterable para evitar tener ciclos for anidados"
      ]
    },
    {
      "cell_type": "code",
      "execution_count": null,
      "metadata": {
        "id": "ZAxOVwIHm6it"
      },
      "outputs": [],
      "source": [
        "from math import factorial\n",
        "import numpy as np\n",
        "from itertools import product"
      ]
    },
    {
      "cell_type": "markdown",
      "metadata": {
        "id": "hgQNEZ69neEL"
      },
      "source": [
        "#### 2.2.1 Función Binomial"
      ]
    },
    {
      "cell_type": "code",
      "execution_count": null,
      "metadata": {
        "id": "0O53dUDsnUMw"
      },
      "outputs": [],
      "source": [
        "class Binomial:\n",
        "    def __init__(self, n: int, p: float):\n",
        "        self.n = n  # espacio muestral\n",
        "        self.p = p  # probabilidad\n",
        "\n",
        "    def _combination(self, n: int, x: int) -> float:\n",
        "        '''Calcula la combinatoria de dos números'''\n",
        "        if x > n:\n",
        "            raise ValueError(\"n debe ser mayor o igual a x\")\n",
        "        return 1 if n == x else factorial(n) / (factorial(x) * factorial(n - x))\n",
        "\n",
        "    def pmf(self, k: int) -> float:\n",
        "        '''Calcula la distribución binomial, en el paso k'''\n",
        "        if k > self.n:\n",
        "            raise ValueError(\"n debe ser mayor o igual a k\")\n",
        "\n",
        "        if self.p < 0 and self.p > 1:\n",
        "            return 0\n",
        "\n",
        "        return self._combination(self.n, k) * pow(self.p, k) * pow(1 - self.p, self.n - k)\n",
        "\n",
        "    def cdf(self, k: int) -> float:\n",
        "        '''Calcula la función acumulativa de la distribución binomial, en el paso k'''\n",
        "        if k > self.n:\n",
        "            raise ValueError(\"n debe ser mayor o igual a k\")\n",
        "\n",
        "        return sum(self.pmf(i) for i in range(k + 1))"
      ]
    },
    {
      "cell_type": "markdown",
      "metadata": {
        "id": "p8uaLr00oVTs"
      },
      "source": [
        "#### 2.2.2 Matríz de Transición\n",
        "\n",
        "Los siguientes métodos calcular los valores de las celdas de la matríz de transición (desde celdas iniciales, finales, centrales, a la izquierda y a la derecha)"
      ]
    },
    {
      "cell_type": "code",
      "execution_count": null,
      "metadata": {
        "id": "k4Zd9uZBoU_P"
      },
      "outputs": [],
      "source": [
        "def calculate_first_row(matrix, k: int, n: int, p_in: float):\n",
        "    matrix.append(Binomial(n, p_in).pmf(k))\n",
        "\n",
        "def calculate_first_cell(\n",
        "    matrix,\n",
        "    k: int,\n",
        "    n: int,\n",
        "    p_in: float,\n",
        "    p_out: float,\n",
        "    i:int,\n",
        "    total_sample: int\n",
        "):\n",
        "    matrix.append(\n",
        "        Binomial(i, p_out).pmf(k + n)\n",
        "        * Binomial(total_sample - n, p_in).pmf(k)\n",
        "    )\n",
        "\n",
        "def calculate_left_cell(matrix, k: int, n: int, p_out: float):\n",
        "    matrix.append(Binomial(n, p_out).pmf(k))\n",
        "\n",
        "def calculate_center_cell(\n",
        "    matrix,\n",
        "    k: int,\n",
        "    n: int,\n",
        "    p_in: float,\n",
        "    p_out: float,\n",
        "    total_sample: int\n",
        "):\n",
        "    matrix.append(\n",
        "        Binomial(n, p_out).pmf(k)\n",
        "        * Binomial(n, p_in).pmf(k)\n",
        "        + Binomial(n, p_out).pmf(0)\n",
        "        * Binomial(total_sample - n, p_in).pmf(0)\n",
        "    )\n",
        "\n",
        "def calculate_right_cell(\n",
        "    matrix,\n",
        "    k: int,\n",
        "    n: int,\n",
        "    p_in: float,\n",
        "    p_out: float,\n",
        "    total_sample: int\n",
        "):\n",
        "    matrix.append(\n",
        "        Binomial(n, p_out).pmf(0)\n",
        "        * Binomial(total_sample - n, p_in).pmf(np.abs(k - n))\n",
        "    )\n",
        "\n",
        "def calculate_last_cell(matrix, k: int, n: int, p_out: float):\n",
        "    matrix.append(Binomial(n, p_out).pmf(k))"
      ]
    },
    {
      "cell_type": "code",
      "execution_count": null,
      "metadata": {
        "id": "c1bIVbGEpO_7"
      },
      "outputs": [],
      "source": [
        "def calculate_transition_matrix(matrix, total_sample: int, p_in: float, p_out: float):\n",
        "    '''Calcular y llenar la matríz de transición'''\n",
        "    for i, j in product(range(total_sample + 1), range(total_sample + 1)):\n",
        "        if i == 0:\n",
        "            calculate_first_row(matrix, j, total_sample, p_in)\n",
        "        elif i == total_sample:\n",
        "            j = i - j\n",
        "            calculate_last_cell(matrix, j, i, p_out)\n",
        "        elif j == 0 and i > 0:\n",
        "            calculate_first_cell(matrix, j, i, p_in, p_out, i, total_sample)\n",
        "        elif j == i and i > 0:\n",
        "            calculate_center_cell(matrix, j, i, p_in, p_out, total_sample)\n",
        "        elif j < i and i > 0:\n",
        "            calculate_left_cell(matrix, j, i, p_out)\n",
        "        elif j > i > 0:\n",
        "            calculate_right_cell(matrix, j, i, p_in, p_out, total_sample)"
      ]
    },
    {
      "cell_type": "code",
      "execution_count": null,
      "metadata": {
        "id": "wfW1rRqjpeZF"
      },
      "outputs": [],
      "source": [
        "def print_transition_matrix(matrix, total_sample: int):\n",
        "    '''Formatea e imprime la matríz de transición'''\n",
        "    matrix_aux = np.array(matrix).reshape((total_sample + 1, total_sample + 1))\n",
        "    matrix_aux = np.round(matrix_aux, decimals=4)\n",
        "    print(matrix_aux)\n",
        "\n",
        "    matrix_sum = np.sum(matrix_aux, axis=1)\n",
        "    matrix_sum = np.round(matrix_sum, decimals=0)\n",
        "    print(f'Sum matrix: {matrix_sum}')"
      ]
    },
    {
      "cell_type": "markdown",
      "metadata": {
        "id": "0EJEEzuHGPsQ"
      },
      "source": [
        "## 3. Problemas"
      ]
    },
    {
      "cell_type": "markdown",
      "metadata": {
        "id": "GtQVq3JBuhld"
      },
      "source": [
        "Un ordenador compartido por n usuarios.\n",
        "Donde n = 2 hasta 10, con las probabilidades de que un usuario pueda desconectarse con 0.3 y se puede conectar con probabilidad de 0.4.\n",
        "Modelamos con una cadena de márkov X(t) que da el numero de usuarios conectados.\n"
      ]
    },
    {
      "cell_type": "markdown",
      "metadata": {
        "id": "2TIt0QHRGYXw"
      },
      "source": [
        "## 4. Resultados"
      ]
    },
    {
      "cell_type": "markdown",
      "metadata": {
        "id": "Tgm5FM48qq_1"
      },
      "source": [
        "### 4.1 Ejemplo con 3 usuarios\n",
        "Se puede apreciar en la siguiente tabla la matríz de transición para 3 usuarios en el sistema."
      ]
    },
    {
      "cell_type": "code",
      "execution_count": null,
      "metadata": {
        "colab": {
          "base_uri": "https://localhost:8080/"
        },
        "id": "hQGxXJYGrFLN",
        "outputId": "8420c797-9fc3-47b6-a209-3a53379447ed"
      },
      "outputs": [
        {
          "name": "stdout",
          "output_type": "stream",
          "text": [
            "[[0.216  0.432  0.288  0.064 ]\n",
            " [0.108  0.372  0.336  0.112 ]\n",
            " [0.054  0.42   0.3084 0.196 ]\n",
            " [0.027  0.189  0.441  0.343 ]]\n",
            "Sum matrix: [1. 1. 1. 1.]\n"
          ]
        }
      ],
      "source": [
        "sample = 3\n",
        "matrix = []\n",
        "p_in = 0.4\n",
        "p_out = 0.3\n",
        "\n",
        "calculate_transition_matrix(matrix, sample, p_in, p_out)\n",
        "print_transition_matrix(matrix, sample)"
      ]
    },
    {
      "cell_type": "markdown",
      "metadata": {
        "id": "JqkiBEG5uxTq"
      },
      "source": [
        " <div align=\"center\">\n",
        "    Tabla 1. Matríz de transición con 3 usuarios\n",
        "</div>\n"
      ]
    },
    {
      "cell_type": "markdown",
      "metadata": {
        "id": "57Ep7QtWrQER"
      },
      "source": [
        "### 4.2 Ejemplo con 4 usuarios\n",
        "Se puede apreciar en la siguiente tabla la matríz de transición para 4 usuarios en el sistema."
      ]
    },
    {
      "cell_type": "code",
      "execution_count": null,
      "metadata": {
        "colab": {
          "base_uri": "https://localhost:8080/"
        },
        "id": "KaC7EVqdrXhn",
        "outputId": "58c3f339-77b3-4ab2-d41b-634557fce163"
      },
      "outputs": [
        {
          "name": "stdout",
          "output_type": "stream",
          "text": [
            "[[0.1296 0.3456 0.3456 0.1536 0.0256]\n",
            " [0.0648 0.2712 0.3024 0.2016 0.0448]\n",
            " [0.0324 0.42   0.1908 0.2352 0.0784]\n",
            " [0.0162 0.441  0.189  0.2075 0.1372]\n",
            " [0.0081 0.0756 0.2646 0.4116 0.2401]]\n",
            "Sum matrix: [1. 1. 1. 1. 1.]\n"
          ]
        }
      ],
      "source": [
        "sample = 4\n",
        "matrix = []\n",
        "p_in = 0.4\n",
        "p_out = 0.3\n",
        "\n",
        "calculate_transition_matrix(matrix, sample, p_in, p_out)\n",
        "print_transition_matrix(matrix, sample)"
      ]
    },
    {
      "cell_type": "markdown",
      "metadata": {
        "id": "BV5QfnyovA0m"
      },
      "source": [
        " <div align=\"center\">\n",
        "    Tabla 2. Matríz de transición con 4 usuarios\n",
        "</div>\n"
      ]
    },
    {
      "cell_type": "markdown",
      "metadata": {
        "id": "ZC0EZa8xqXNc"
      },
      "source": [
        "### 4.3 Ejercicio dinámico\n",
        "El usuario debe de ingresar cuantos usuarios habrán en el sistema y se generará la matríz de transición"
      ]
    },
    {
      "cell_type": "code",
      "execution_count": null,
      "metadata": {
        "colab": {
          "base_uri": "https://localhost:8080/"
        },
        "id": "r9U_tiKbp4jn",
        "outputId": "78d5132b-0c9e-4fde-db73-e80a2569c451"
      },
      "outputs": [
        {
          "name": "stdout",
          "output_type": "stream",
          "text": [
            "Cantidad de usuarios: 3\n",
            "[[0.216  0.432  0.288  0.064 ]\n",
            " [0.108  0.372  0.336  0.112 ]\n",
            " [0.054  0.42   0.3084 0.196 ]\n",
            " [0.027  0.189  0.441  0.343 ]]\n",
            "Sum matrix: [1. 1. 1. 1.]\n"
          ]
        }
      ],
      "source": [
        "sample = int(input('Cantidad de usuarios: '))\n",
        "matrix = []\n",
        "p_in = 0.4\n",
        "p_out = 0.3\n",
        "\n",
        "if 2 <= sample <= 10: \n",
        "  calculate_transition_matrix(matrix, sample, p_in, p_out)\n",
        "  print_transition_matrix(matrix, sample)"
      ]
    },
    {
      "cell_type": "markdown",
      "metadata": {
        "id": "_l_ZITxSvDkq"
      },
      "source": [
        " <div align=\"center\">\n",
        "    Tabla 3. Matríz de transición dinámica \n",
        "</div>\n"
      ]
    },
    {
      "cell_type": "markdown",
      "metadata": {
        "id": "FdmASu43Gek7"
      },
      "source": [
        "## 5. Conclusiones"
      ]
    },
    {
      "cell_type": "markdown",
      "metadata": {
        "id": "a_Y9aVipkMcG"
      },
      "source": [
        "Se resalta la gran importancia que presenta las cadenas de markov al momento de establecer y determinar las probabilidades dadas que sobresalen en los resultados obtenidos; nos muestra que es una herramienta útil para llevar a cabo un eficaz rendimiento al momento de establecer las conexiones y las desconexiones de los usuarios en una computadora. A futuro podemos ver como un sistema basado en lograr crear estrategias logrando analizar las probabilidades, poder resolver problemas en el mundo real y generar gran impacto de forma positiva en cualquier ámbito requerido."
      ]
    },
    {
      "cell_type": "markdown",
      "metadata": {
        "id": "VpqBNQAZGrbb"
      },
      "source": [
        "## 6. Referencias"
      ]
    },
    {
      "cell_type": "markdown",
      "metadata": {
        "id": "0fKXHYndhvby"
      },
      "source": [
        "- [Cadenas de Márkov](file:///D:/documentos/Downloads/Chain%20Markov.pdf)"
      ]
    }
  ],
  "metadata": {
    "colab": {
      "provenance": []
    },
    "kernelspec": {
      "display_name": "Python 3",
      "name": "python3"
    },
    "language_info": {
      "name": "python"
    }
  },
  "nbformat": 4,
  "nbformat_minor": 0
}
